{
 "cells": [
  {
   "cell_type": "code",
   "execution_count": 1,
   "id": "068d5bf6",
   "metadata": {},
   "outputs": [],
   "source": [
    "import cv2\n",
    "from skimage import io\n",
    "\n",
    "import numpy as np\n",
    "\n",
    "from sklearn.decomposition import PCA"
   ]
  },
  {
   "cell_type": "code",
   "execution_count": 2,
   "id": "8af8ee53",
   "metadata": {},
   "outputs": [],
   "source": [
    "url = 'https://personal.utdallas.edu/~mxm190127/flower-img.png'"
   ]
  },
  {
   "cell_type": "code",
   "execution_count": 3,
   "id": "fd37c046",
   "metadata": {},
   "outputs": [],
   "source": [
    "img = io.imread(url)"
   ]
  },
  {
   "cell_type": "code",
   "execution_count": 4,
   "id": "574b8108",
   "metadata": {},
   "outputs": [],
   "source": [
    "img = cv2.cvtColor(img, cv2.COLOR_RGB2BGR)"
   ]
  },
  {
   "cell_type": "code",
   "execution_count": 5,
   "id": "c381389e",
   "metadata": {},
   "outputs": [
    {
     "data": {
      "text/plain": [
       "48"
      ]
     },
     "execution_count": 5,
     "metadata": {},
     "output_type": "execute_result"
    }
   ],
   "source": [
    "cv2.imshow('Image', img)\n",
    "cv2.waitKey(0)"
   ]
  },
  {
   "cell_type": "code",
   "execution_count": 6,
   "id": "0187cd69",
   "metadata": {},
   "outputs": [],
   "source": [
    "pixel_values = img.reshape((-1, 3))\n",
    "pixel_values = np.float32(pixel_values)"
   ]
  },
  {
   "cell_type": "code",
   "execution_count": 7,
   "id": "fcf51cea",
   "metadata": {},
   "outputs": [],
   "source": [
    "criteria = (cv2.TERM_CRITERIA_EPS + cv2.TERM_CRITERIA_MAX_ITER, 100, 0.2)"
   ]
  },
  {
   "cell_type": "code",
   "execution_count": 8,
   "id": "f1790f68",
   "metadata": {},
   "outputs": [],
   "source": [
    "def kMeans(k):\n",
    "    _, labels, (centers) = cv2.kmeans(pixel_values, k, None, criteria, 10, cv2.KMEANS_RANDOM_CENTERS)\n",
    "    \n",
    "    centers = np.uint8(centers)\n",
    "    labels = labels.flatten()\n",
    "    \n",
    "    segmented_image = centers[labels.flatten()]\n",
    "    segmented_image = segmented_image.reshape(img.shape)\n",
    "    \n",
    "    fileName = 'compressed_k_means_' + str(k) + '.png'\n",
    "    cv2.imwrite(fileName, segmented_image)\n",
    "    \n",
    "    cv2.imshow(\"Image\", segmented_image)\n",
    "    cv2.waitKey(0)"
   ]
  },
  {
   "cell_type": "code",
   "execution_count": 9,
   "id": "6c0bf33b",
   "metadata": {},
   "outputs": [],
   "source": [
    "kMeans(2)"
   ]
  },
  {
   "cell_type": "code",
   "execution_count": 10,
   "id": "e9da8fac",
   "metadata": {},
   "outputs": [],
   "source": [
    "kMeans(4)"
   ]
  },
  {
   "cell_type": "code",
   "execution_count": 11,
   "id": "04abe3af",
   "metadata": {},
   "outputs": [],
   "source": [
    "kMeans(6)"
   ]
  },
  {
   "cell_type": "code",
   "execution_count": 12,
   "id": "92d361fd",
   "metadata": {},
   "outputs": [],
   "source": [
    "kMeans(8)"
   ]
  },
  {
   "cell_type": "code",
   "execution_count": 13,
   "id": "75f59e7d",
   "metadata": {},
   "outputs": [],
   "source": [
    "kMeans(10)"
   ]
  },
  {
   "cell_type": "code",
   "execution_count": 14,
   "id": "db6e5c5f",
   "metadata": {},
   "outputs": [],
   "source": [
    "blue,green,red = cv2.split(img) "
   ]
  },
  {
   "cell_type": "code",
   "execution_count": 15,
   "id": "3c7bec3d",
   "metadata": {},
   "outputs": [],
   "source": [
    "def pcaCompression(n):\n",
    "    pca = PCA(n)\n",
    " \n",
    "    red_transformed = pca.fit_transform(red)\n",
    "    red_inverted = pca.inverse_transform(red_transformed)\n",
    "\n",
    "    green_transformed = pca.fit_transform(green)\n",
    "    green_inverted = pca.inverse_transform(green_transformed)\n",
    "\n",
    "    blue_transformed = pca.fit_transform(blue)\n",
    "    blue_inverted = pca.inverse_transform(blue_transformed)\n",
    "\n",
    "    img_compressed = (np.dstack((blue_inverted, green_inverted, red_inverted))).astype(np.uint8)\n",
    "    \n",
    "    fileName = 'compressed_pca_' + str(n) + '.png'\n",
    "    cv2.imwrite(fileName, img_compressed)\n",
    "   \n",
    "    cv2.imshow(\"Image\", img_compressed)\n",
    "    cv2.waitKey(0)"
   ]
  },
  {
   "cell_type": "code",
   "execution_count": 16,
   "id": "241e5923",
   "metadata": {},
   "outputs": [],
   "source": [
    "pcaCompression(10)"
   ]
  },
  {
   "cell_type": "code",
   "execution_count": 17,
   "id": "e95f0a2f",
   "metadata": {},
   "outputs": [],
   "source": [
    "pcaCompression(20)"
   ]
  },
  {
   "cell_type": "code",
   "execution_count": 18,
   "id": "e230ab5b",
   "metadata": {},
   "outputs": [],
   "source": [
    "pcaCompression(50)"
   ]
  },
  {
   "cell_type": "code",
   "execution_count": 19,
   "id": "220f9c43",
   "metadata": {},
   "outputs": [],
   "source": [
    "pcaCompression(75)"
   ]
  },
  {
   "cell_type": "code",
   "execution_count": 20,
   "id": "f2f9ddc7",
   "metadata": {},
   "outputs": [],
   "source": [
    "pcaCompression(100)"
   ]
  },
  {
   "cell_type": "code",
   "execution_count": 21,
   "id": "cb6ff358",
   "metadata": {},
   "outputs": [],
   "source": [
    "pcaCompression(150)"
   ]
  }
 ],
 "metadata": {
  "kernelspec": {
   "display_name": "Python 3",
   "language": "python",
   "name": "python3"
  },
  "language_info": {
   "codemirror_mode": {
    "name": "ipython",
    "version": 3
   },
   "file_extension": ".py",
   "mimetype": "text/x-python",
   "name": "python",
   "nbconvert_exporter": "python",
   "pygments_lexer": "ipython3",
   "version": "3.8.8"
  }
 },
 "nbformat": 4,
 "nbformat_minor": 5
}
